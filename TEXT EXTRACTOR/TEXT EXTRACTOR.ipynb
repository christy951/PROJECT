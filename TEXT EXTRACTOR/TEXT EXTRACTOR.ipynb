{
 "cells": [
  {
   "cell_type": "code",
   "execution_count": 2,
   "id": "04cd19a8",
   "metadata": {},
   "outputs": [
    {
     "name": "stdout",
     "output_type": "stream",
     "text": [
      "Collecting PYPDF2\n",
      "  Using cached PyPDF2-2.10.0-py3-none-any.whl (208 kB)\n",
      "Requirement already satisfied: typing-extensions in f:\\prgm\\lib\\site-packages (from PYPDF2) (4.1.1)\n",
      "Installing collected packages: PYPDF2\n",
      "Successfully installed PYPDF2-2.10.0\n",
      "Note: you may need to restart the kernel to use updated packages.\n"
     ]
    }
   ],
   "source": [
    "pip install PYPDF2"
   ]
  },
  {
   "cell_type": "code",
   "execution_count": 7,
   "id": "b2ae1929",
   "metadata": {},
   "outputs": [],
   "source": [
    "import  PyPDF2"
   ]
  },
  {
   "cell_type": "code",
   "execution_count": 11,
   "id": "73374670",
   "metadata": {},
   "outputs": [],
   "source": [
    "file=open(\"mypdf.pdf\",\"rb\")"
   ]
  },
  {
   "cell_type": "code",
   "execution_count": 12,
   "id": "0d0daf7b",
   "metadata": {},
   "outputs": [],
   "source": [
    "reader=PyPDF2.PdfFileReader(file)"
   ]
  },
  {
   "cell_type": "code",
   "execution_count": 13,
   "id": "33c681b9",
   "metadata": {},
   "outputs": [
    {
     "name": "stdout",
     "output_type": "stream",
     "text": [
      "R.Dinesh  et al , International Journal of Computer Science and Mobile Computing, Vol.4 Issue.3 , March - 2015 , pg. 142 -149 \n",
      "© 2015 , IJCSMC All Rights Reserved                                                                                                        142  \n",
      "Available Online at  www.ijcsmc.com  \n",
      "International Journal of Computer Science and Mobile Computing  \n",
      " A Monthly Journal of Computer Science and Information Technology  \n",
      "ISSN 2320 –088X  \n",
      "  IJCSMC, Vol. 4, Issue. 3, March 2015, pg. 142  – 149  \n",
      "                       RESEARCH ARTICLE  \n",
      "LIBRARY ACCESS SYSTEM \n",
      "SMARTPHONE APPLICATION \n",
      "USING  ANDROID  \n",
      "R.DINESH *, S.R. ARUN PRAVIN *, M.ARAVINDHAN *, D.RAJESWARI ** \n",
      "*UG Student,  **Assistant Professor  \n",
      "Department of Information Technology , R.M.K Engineering College -601206, India  \n",
      "dineshchennai2008@gmail.com ; arunpravinsr2792@gmail.com ; arviamutha@gmail.com    \n",
      " \n",
      "ABSTRACT : Android platform has beco me more popular and it holds a maximum number of Users when \n",
      "compared to all other platform. Before  the introduction of the Android Operating System the access to the \n",
      "Library documents was done only by the librarian . This paper suggests a method for the library access to go \n",
      "public  that is the public can also access the library datab ase. The Library Access Application  helps the  patrons to \n",
      "access their required information  and queries  without computers  or the librarians  but through their android \n",
      "devices  which saves  their  time and energy. The Application retrieves the information stored in the library \n",
      "database through the library server  for example checking whether the books are available in  the library  or \n",
      "borrowed without intervening anyone . User’s access of library  will be stored in the database for suggestion \n",
      "during a search for books.  Due -date of the borrowed books from a library will be intimated by the app as a \n",
      "notification  prior to the deadline . Users are privileged to suggest books for the library and they are notified about  \n",
      "their suggestion, by the Librarian. This paper brings a new idea of  the public to access the library .  \n",
      "KEYWORDS : Android Operating System , SQLite  database , Library  Access Application  \n",
      "I. INTRODUCTION  \n",
      "A Library is a n organised collection of sources of information which is made accessible to the people of different \n",
      "Community. The  Library usually contains th e information physically or in a digitized format. In  the Olden period \n",
      "the access was usually in the Li brary room as the Technology gre w up the access was made online  [1, 9]. Android is \n"
     ]
    }
   ],
   "source": [
    "Text = reader.getPage(0).extractText()\n",
    "print(Text)"
   ]
  },
  {
   "cell_type": "code",
   "execution_count": null,
   "id": "2490f439",
   "metadata": {},
   "outputs": [],
   "source": []
  }
 ],
 "metadata": {
  "kernelspec": {
   "display_name": "Python 3 (ipykernel)",
   "language": "python",
   "name": "python3"
  },
  "language_info": {
   "codemirror_mode": {
    "name": "ipython",
    "version": 3
   },
   "file_extension": ".py",
   "mimetype": "text/x-python",
   "name": "python",
   "nbconvert_exporter": "python",
   "pygments_lexer": "ipython3",
   "version": "3.9.12"
  }
 },
 "nbformat": 4,
 "nbformat_minor": 5
}
