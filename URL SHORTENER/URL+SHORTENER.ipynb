{
 "cells": [
  {
   "cell_type": "code",
   "execution_count": 1,
   "id": "ccb859e8",
   "metadata": {},
   "outputs": [
    {
     "name": "stdout",
     "output_type": "stream",
     "text": [
      "Collecting pyshorteners\n",
      "  Downloading pyshorteners-1.0.1.tar.gz (10.0 kB)\n",
      "Requirement already satisfied: requests in f:\\prgm\\lib\\site-packages (from pyshorteners) (2.27.1)\n",
      "Requirement already satisfied: idna<4,>=2.5 in f:\\prgm\\lib\\site-packages (from requests->pyshorteners) (3.3)\n",
      "Requirement already satisfied: urllib3<1.27,>=1.21.1 in f:\\prgm\\lib\\site-packages (from requests->pyshorteners) (1.26.9)\n",
      "Requirement already satisfied: certifi>=2017.4.17 in f:\\prgm\\lib\\site-packages (from requests->pyshorteners) (2021.10.8)\n",
      "Requirement already satisfied: charset-normalizer~=2.0.0 in f:\\prgm\\lib\\site-packages (from requests->pyshorteners) (2.0.4)\n",
      "Building wheels for collected packages: pyshorteners\n",
      "  Building wheel for pyshorteners (setup.py): started\n",
      "  Building wheel for pyshorteners (setup.py): finished with status 'done'\n",
      "  Created wheel for pyshorteners: filename=pyshorteners-1.0.1-py3-none-any.whl size=17498 sha256=618dadd8f0dac8abba3d1a2bd7af0c229d5dbb8bae43d4d4bd958c9da4bb4995\n",
      "  Stored in directory: c:\\users\\dell\\appdata\\local\\pip\\cache\\wheels\\51\\56\\d8\\765ad4c919190fbd24541487735547e6c665c9381d4d689ae8\n",
      "Successfully built pyshorteners\n",
      "Installing collected packages: pyshorteners\n",
      "Successfully installed pyshorteners-1.0.1\n",
      "Note: you may need to restart the kernel to use updated packages.\n"
     ]
    }
   ],
   "source": [
    "pip install pyshorteners"
   ]
  },
  {
   "cell_type": "code",
   "execution_count": 2,
   "id": "c985326b",
   "metadata": {},
   "outputs": [],
   "source": [
    "import pyshorteners"
   ]
  },
  {
   "cell_type": "code",
   "execution_count": 3,
   "id": "05a28c00",
   "metadata": {},
   "outputs": [
    {
     "name": "stdout",
     "output_type": "stream",
     "text": [
      " Your link: http://localhost:8888/notebooks/Downloads/Untitled.ipynb?kernel_name=python3\n"
     ]
    }
   ],
   "source": [
    "shortener = pyshorteners.Shortener()\n",
    "long_link = input(\" Your link: \")\n"
   ]
  },
  {
   "cell_type": "code",
   "execution_count": 4,
   "id": "c44dc68e",
   "metadata": {},
   "outputs": [
    {
     "name": "stdout",
     "output_type": "stream",
     "text": [
      "https://tinyurl.com/2lspljry\n"
     ]
    }
   ],
   "source": [
    "short_link = shortener.tinyurl.short(long_link)\n",
    "print(short_link)\n"
   ]
  },
  {
   "cell_type": "code",
   "execution_count": null,
   "id": "b61c3019",
   "metadata": {},
   "outputs": [],
   "source": []
  }
 ],
 "metadata": {
  "kernelspec": {
   "display_name": "Python 3 (ipykernel)",
   "language": "python",
   "name": "python3"
  },
  "language_info": {
   "codemirror_mode": {
    "name": "ipython",
    "version": 3
   },
   "file_extension": ".py",
   "mimetype": "text/x-python",
   "name": "python",
   "nbconvert_exporter": "python",
   "pygments_lexer": "ipython3",
   "version": "3.9.12"
  }
 },
 "nbformat": 4,
 "nbformat_minor": 5
}
