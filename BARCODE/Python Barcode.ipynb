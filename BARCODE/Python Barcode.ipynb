{
 "cells": [
  {
   "cell_type": "code",
   "execution_count": 1,
   "id": "ea06f775",
   "metadata": {},
   "outputs": [],
   "source": [
    "import barcode"
   ]
  },
  {
   "cell_type": "code",
   "execution_count": 2,
   "id": "7de20701",
   "metadata": {},
   "outputs": [],
   "source": [
    "from barcode import EAN13\n",
    "from barcode.writer import ImageWriter"
   ]
  },
  {
   "cell_type": "code",
   "execution_count": 3,
   "id": "bf58fe2c",
   "metadata": {},
   "outputs": [
    {
     "name": "stdout",
     "output_type": "stream",
     "text": [
      "How many Barcodes you Need? 1\n"
     ]
    }
   ],
   "source": [
    "num_of_barcodes = int(input(\"How many Barcodes you Need? \"))\n",
    "numbers = range(num_of_barcodes)\n"
   ]
  },
  {
   "cell_type": "code",
   "execution_count": 6,
   "id": "56a0a8f8",
   "metadata": {},
   "outputs": [
    {
     "name": "stdout",
     "output_type": "stream",
     "text": [
      " Give 12-Digit numbers for your barcode id: 000123456789\n"
     ]
    }
   ],
   "source": [
    "for i in numbers:\n",
    "    id = input(\" Give 12-Digit numbers for your barcode id: \")\n",
    "    my_code = EAN13(id, writer=ImageWriter())\n",
    "    b=my_code.save('barcode')\n"
   ]
  },
  {
   "cell_type": "code",
   "execution_count": null,
   "id": "b26bb9bf",
   "metadata": {},
   "outputs": [],
   "source": []
  },
  {
   "cell_type": "code",
   "execution_count": null,
   "id": "53d7e910",
   "metadata": {},
   "outputs": [],
   "source": []
  }
 ],
 "metadata": {
  "kernelspec": {
   "display_name": "Python 3 (ipykernel)",
   "language": "python",
   "name": "python3"
  },
  "language_info": {
   "codemirror_mode": {
    "name": "ipython",
    "version": 3
   },
   "file_extension": ".py",
   "mimetype": "text/x-python",
   "name": "python",
   "nbconvert_exporter": "python",
   "pygments_lexer": "ipython3",
   "version": "3.9.12"
  }
 },
 "nbformat": 4,
 "nbformat_minor": 5
}
